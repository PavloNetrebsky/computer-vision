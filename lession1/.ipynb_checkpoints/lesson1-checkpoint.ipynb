{
 "cells": [
  {
   "cell_type": "code",
   "execution_count": null,
   "id": "12b2b1e0-40d7-4f04-ba3f-c228c881de94",
   "metadata": {},
   "outputs": [],
   "source": [
    "import cv2\n",
    "import numpy as np\n",
    "from matplotlib import pyplot as plt\n",
    "\n",
    "plt.rcParams['figure.figsize'] = [15, 10]\n",
    "\n",
    "# Load an image (you can freely chose any image you like)\n",
    "img = cv2.imread('./test_image.jpg')\n",
    "# Convert it to RGB\n",
    "img = cv2.cvtColor(img, cv2.COLOR_BGR2RGB)\n",
    "# Plot it\n",
    "plt.imshow(img)\n",
    "\n",
    "# Split the image into the three colour channels\n",
    "red, green, blue = cv2.split(img)\n",
    "\n",
    "# Compose the image in the RGB colour space\n",
    "img1 = cv2.merge([red, green, blue])\n",
    "\n",
    "# Compose the image in the RBG colour space\n",
    "img2 = cv2.merge([red, blue, green])\n",
    "\n",
    "# Compose the image in the GRB colour space\n",
    "img3 = cv2.merge([green, red, blue])\n",
    "\n",
    "# Compose the image in the BGR colour space\n",
    "img4 = cv2.merge([blue, green, red])\n",
    "\n",
    "# Create the collage\n",
    "out1 = np.hstack([img1, img2])\n",
    "out2 = np.hstack([img3, img4])\n",
    "\n",
    "out = np.vstack([out1, out2])\n",
    "\n",
    "# Plot the collage\n",
    "plt.imshow(out)\n",
    "plt.axis(False)"
   ]
  }
 ],
 "metadata": {
  "kernelspec": {
   "display_name": "Python 3 (ipykernel)",
   "language": "python",
   "name": "python3"
  },
  "language_info": {
   "codemirror_mode": {
    "name": "ipython",
    "version": 3
   },
   "file_extension": ".py",
   "mimetype": "text/x-python",
   "name": "python",
   "nbconvert_exporter": "python",
   "pygments_lexer": "ipython3",
   "version": "3.11.7"
  }
 },
 "nbformat": 4,
 "nbformat_minor": 5
}
