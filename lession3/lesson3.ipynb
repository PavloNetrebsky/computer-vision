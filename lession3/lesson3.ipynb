{
 "cells": [
  {
   "cell_type": "code",
   "execution_count": null,
   "id": "dac84e84-28a2-484b-8246-6854d0c8a0d7",
   "metadata": {
    "tags": []
   },
   "outputs": [],
   "source": [
    "import cv2\n",
    "import numpy as np\n",
    "from matplotlib import pyplot as plt"
   ]
  },
  {
   "cell_type": "code",
   "execution_count": null,
   "id": "692c73c0-3820-4caa-bf87-34c803f61c43",
   "metadata": {
    "tags": []
   },
   "outputs": [],
   "source": [
    "plt.rcParams['figure.figsize'] = [15, 10]\n",
    "\n",
    "# Load an image (you can freely choose any image you like)\n",
    "img = cv2.imread('./test_image.jpg')"
   ]
  },
  {
   "cell_type": "code",
   "execution_count": null,
   "id": "703b40a9-e264-4e4a-bd97-e3ecddeee455",
   "metadata": {},
   "outputs": [],
   "source": [
    "img = cv2.cvtColor(img, cv2.COLOR_BGR2RGB)\n",
    "sigma = 0.8 \n",
    "unsharp = cv2.GaussianBlur(img, (0, 0), sigma)\n",
    "\n",
    "diff = img - unsharp\n",
    "\n",
    "amount = 1.2  \n",
    "sharpened = img + amount * diff\n",
    "\n",
    "sharpened = np.clip(sharpened, 0, 255).astype(np.uint8)\n",
    "\n",
    "# Display all\n",
    "plt.subplot(221), plt.imshow(img), plt.title('Original Image')\n",
    "plt.subplot(222), plt.imshow(unsharp), plt.title('Unsharp Image')\n",
    "plt.subplot(223), plt.imshow(diff), plt.title('Difference Image')\n",
    "plt.subplot(224), plt.imshow(sharpened), plt.title('Sharpened Image')\n",
    "plt.show()\n",
    "\n"
   ]
  }
 ],
 "metadata": {
  "kernelspec": {
   "display_name": "Python 3 (ipykernel)",
   "language": "python",
   "name": "python3"
  },
  "language_info": {
   "codemirror_mode": {
    "name": "ipython",
    "version": 3
   },
   "file_extension": ".py",
   "mimetype": "text/x-python",
   "name": "python",
   "nbconvert_exporter": "python",
   "pygments_lexer": "ipython3",
   "version": "3.11.5"
  }
 },
 "nbformat": 4,
 "nbformat_minor": 5
}
